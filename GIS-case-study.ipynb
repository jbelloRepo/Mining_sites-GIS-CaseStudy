{
 "cells": [
  {
   "attachments": {},
   "cell_type": "markdown",
   "metadata": {},
   "source": [
    "## Geospatial Data Analysis with Python\n",
    "\n",
    "In this exercise, we will work with two new datasets: artisanal mining sites in Eastern Congo and national parks in Congo. We'll follow a step-by-step process to import the necessary packages, read the data using `geopandas.read_file()`, inspect the first 5 rows and the Coordinate Reference System (CRS) of each dataset, and create quick visualizations."
   ]
  },
  {
   "attachments": {},
   "cell_type": "markdown",
   "metadata": {},
   "source": [
    "### Artisanal Mining Case Study\n",
    "\n",
    "#### 1. Import Packages\n"
   ]
  },
  {
   "cell_type": "code",
   "execution_count": 52,
   "metadata": {},
   "outputs": [],
   "source": [
    "# Import GeoPandas and Matplotlib libraries \n",
    "import pandas as pd\n",
    "import matplotlib.pyplot as plt\n",
    "import geopandas as gp"
   ]
  },
  {
   "attachments": {},
   "cell_type": "markdown",
   "metadata": {},
   "source": [
    "#### 2. Read and Print Mining Sites Dataset Information"
   ]
  },
  {
   "cell_type": "code",
   "execution_count": 66,
   "metadata": {},
   "outputs": [
    {
     "name": "stdout",
     "output_type": "stream",
     "text": [
      "Mining Dataset: \n",
      "\n",
      "    visit_date                                name  n_workers mineral                  geometry\n",
      "0  2013-03-27                           Mayi-Tatu      150.0    Gold  POINT (29.66033 1.01089)\n",
      "1  2013-03-27                             Mabanga      115.0    Gold  POINT (29.65862 1.00308)\n",
      "2  2013-03-27                             Molende      130.0    Gold  POINT (29.65629 0.98563)\n",
      "3  2013-03-27                          Embouchure      135.0    Gold  POINT (29.64494 0.99976)\n",
      "4  2013-03-27  Apumu-Atandele-Jerusalem-Luka Yayo      270.0    Gold  POINT (29.66000 0.95600)\n",
      "\n",
      " The Coordinate Reference System (CRS) for the mining dataset is: epsg:4326\n"
     ]
    }
   ],
   "source": [
    "# Read the mining site data\n",
    "mining_sites = geopandas.read_file('Mines\\\\ipis_cod_mines.geojson')\n",
    "\n",
    "# Print the first rows and the CRS information\n",
    "pd.set_option('display.expand_frame_repr', False)\n",
    "print(f'Mining Dataset: \\n\\n {mining_sites.head()}')\n",
    "print(f'\\n The Coordinate Reference System (CRS) for the mining dataset is: {mining_sites.crs}')\n"
   ]
  },
  {
   "cell_type": "code",
   "execution_count": 54,
   "metadata": {},
   "outputs": [
    {
     "data": {
      "image/png": "[encoded data removed]",
      "text/plain": [
       "<Figure size 432x288 with 1 Axes>"
      ]
     },
     "metadata": {
      "needs_background": "light"
     },
     "output_type": "display_data"
    }
   ],
   "source": [
    "# Make a visualization with custom color and tick marks\n",
    "mining_sites.plot(color='purple', marker='+', markersize=5)\n",
    "plt.show()"
   ]
  },
  {
   "cell_type": "code",
   "execution_count": 69,
   "metadata": {},
   "outputs": [
    {
     "name": "stdout",
     "output_type": "stream",
     "text": [
      "Column Names:\n",
      "WDPAID - WDPA_PID - PA_DEF - NAME - ORIG_NAME - DESIG - DESIG_ENG - DESIG_TYPE - IUCN_CAT - INT_CRIT\n",
      "MARINE - REP_M_AREA - GIS_M_AREA - REP_AREA - GIS_AREA - NO_TAKE - NO_TK_AREA - STATUS - STATUS_YR - GOV_TYPE\n",
      "OWN_TYPE - MANG_AUTH - MANG_PLAN - VERIF - METADATAID - SUB_LOC - PARENT_ISO - ISO3 - geometry\n",
      "\n",
      " National Parks Dataset \n",
      "                                        NAME                                         DESIG_ENG     DESIG_TYPE                                           geometry\n",
      "0         Lyondji Bonobo Community Reserve           Classified Forest and Community Reserve       National  MULTIPOLYGON (((22.78361 0.18587, 22.78492 0.1...\n",
      "1                Parc national des Virunga  Ramsar Site, Wetland of International Importance  International  MULTIPOLYGON (((29.11713 -1.64822, 29.11765 -1...\n",
      "2                   Luo Scientific Reserve                                Scientific Reserve       National  MULTIPOLYGON (((22.56673 0.24907, 22.57264 0.2...\n",
      "3                                  Salonga                          Integrale Nature Reserve       National  MULTIPOLYGON (((20.47664 -1.53041, 20.47703 -1...\n",
      "4               Réserve forestière de Luki                      UNESCO-MAB Biosphere Reserve  International  MULTIPOLYGON (((13.24173 -5.50931, 13.23929 -5...\n",
      "5   Mangrove Nature Reserve or Marine Park                                    Nature Reserve       National  MULTIPOLYGON (((12.39503 -5.93513, 12.44534 -5...\n",
      "6                 Parc Marin des Mangroves                                     National Park       National  MULTIPOLYGON (((12.58432 -5.96588, 12.57949 -5...\n",
      "7                                   Mangai                                    Nature Reserve       National  MULTIPOLYGON (((19.96213 -5.54481, 19.98117 -5...\n",
      "8                    Tshangalele - Kolwezi                                    Nature Reserve       National  MULTIPOLYGON (((25.24399 -10.79955, 25.11379 -...\n",
      "9                             Kahuzi-Biega                                     National Park       National  MULTIPOLYGON (((27.87908 -1.65335, 27.88637 -1...\n",
      "10                                 Garamba                                     National Park       National  MULTIPOLYGON (((29.55597 4.65964, 29.55905 4.6...\n",
      "11                                  Upemba                                     National Park       National  MULTIPOLYGON (((26.90385 -9.22907, 26.90308 -9...\n",
      "12                                   Maiko                                     National Park       National  MULTIPOLYGON (((28.11428 0.12534, 28.14749 0.1...\n",
      "13                              Kundelungu                                     National Park       National  MULTIPOLYGON (((28.00907 -11.09966, 28.00414 -...\n",
      "14                              Swa-Kibula                                      Hunting Area       National  MULTIPOLYGON (((17.42446 -7.85740, 17.42323 -7...\n",
      "15                               Bushimaie                                      Hunting Area       National  MULTIPOLYGON (((23.21231 -6.93713, 23.28133 -7...\n",
      "16                            Bombo Lumene                                      Not Reported       National  MULTIPOLYGON (((15.97693 -4.28760, 15.98348 -4...\n",
      "17                               Bili-Uere                                      Not Reported       National  MULTIPOLYGON (((22.92951 4.69024, 22.97514 4.6...\n",
      "18                               Rubi-Tele                                      Hunting Area       National  MULTIPOLYGON (((25.87343 2.78470, 25.95760 2.7...\n",
      "19                                   Okapi                                  Wildlife Reserve       National  MULTIPOLYGON (((28.69669 2.47653, 28.69749 2.4...\n",
      "\n",
      " The Coordinate Reference System (CRS) for the national parks dataset is: epsg:4326\n"
     ]
    },
    {
     "data": {
      "image/png": "[encoded data removed]",
      "text/plain": [
       "<Figure size 432x288 with 1 Axes>"
      ]
     },
     "metadata": {
      "needs_background": "light"
     },
     "output_type": "display_data"
    }
   ],
   "source": [
    "# Read the national parks site data\n",
    "national_parks = geopandas.read_file('wdpamay2017cod-shapefile-polygons.geojson')\n",
    "\n",
    "# Print column names from the dataframe\n",
    "column_names = national_parks.columns\n",
    "num_columns = len(column_names)\n",
    "num_columns_per_row = 10\n",
    "num_rows = -(-num_columns // num_columns_per_row)  # Ceiling division\n",
    "\n",
    "print(\"Column Names:\")\n",
    "for i in range(num_rows):\n",
    "    columns_row = column_names[i * num_columns_per_row : (i + 1) * num_columns_per_row]\n",
    "    print(\" - \".join(columns_row))\n",
    " \n",
    "#subset the dataframe\n",
    "national_parks = national_parks[['NAME', 'DESIG_ENG', 'DESIG_TYPE', 'geometry']]\n",
    "\n",
    "# Print the first rows and the CRS information\n",
    "print(f'\\n National Parks Dataset \\n  {national_parks.head(20)}')\n",
    "print(f'\\n The Coordinate Reference System (CRS) for the national parks dataset is: {national_parks.crs}')"
   ]
  },
  {
   "cell_type": "code",
   "execution_count": null,
   "metadata": {},
   "outputs": [],
   "source": []
  }
 ],
 "metadata": {
  "kernelspec": {
   "display_name": "base",
   "language": "python",
   "name": "python3"
  },
  "language_info": {
   "codemirror_mode": {
    "name": "ipython",
    "version": 3
   },
   "file_extension": ".py",
   "mimetype": "text/x-python",
   "name": "python",
   "nbconvert_exporter": "python",
   "pygments_lexer": "ipython3",
   "version": "3.9.7"
  },
  "orig_nbformat": 4
 },
 "nbformat": 4,
 "nbformat_minor": 2
}
