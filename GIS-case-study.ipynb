{
 "cells": [
  {
   "attachments": {},
   "cell_type": "markdown",
   "metadata": {},
   "source": [
    "## Geospatial Data Analysis with Python\n",
    "\n",
    "In this exercise, we will work with two new datasets: artisanal mining sites in Eastern Congo and national parks in Congo. We'll follow a step-by-step process to import the necessary packages, read the data using `geopandas.read_file()`, inspect the first 5 rows and the Coordinate Reference System (CRS) of each dataset, and create quick visualizations. <br>\n",
    "For further analyses , we will convert both datasets to the same CRS, and save both to a new file. To ensure we can do distance-based calculations, we will convert them to a projected CRS: the local UTM zone 35, which is identified by EPSG:32735 (https://epsg.io/32735)."
   ]
  },
  {
   "attachments": {},
   "cell_type": "markdown",
   "metadata": {},
   "source": [
    "### Artisanal Mining Case Study\n",
    "\n",
    "#### 1. Import Packages\n"
   ]
  },
  {
   "cell_type": "code",
   "execution_count": 117,
   "metadata": {},
   "outputs": [],
   "source": [
    "# Import GeoPandas, Matplotlib and other libraries \n",
    "import pandas as pd\n",
    "import matplotlib.pyplot as plt\n",
    "import geopandas as gp\n",
    "from shapely.geometry import Point, LineString, Polygon, MultiPolygon\n",
    "from shapely.affinity import affine_transform\n",
    "from geopandas import GeoDataFrame\n",
    "from pyproj import Proj, Transformer"
   ]
  },
  {
   "attachments": {},
   "cell_type": "markdown",
   "metadata": {},
   "source": [
    "#### 2. Spatial Points: Read and Print Mining Sites Dataset Information"
   ]
  },
  {
   "cell_type": "code",
   "execution_count": 118,
   "metadata": {},
   "outputs": [
    {
     "name": "stdout",
     "output_type": "stream",
     "text": [
      "Mining Dataset: \n",
      "\n",
      "       visit_date                                name  n_workers      mineral                   geometry\n",
      "0     2013-03-27                           Mayi-Tatu      150.0         Gold   POINT (29.66033 1.01089)\n",
      "1     2013-03-27                             Mabanga      115.0         Gold   POINT (29.65862 1.00308)\n",
      "2     2013-03-27                             Molende      130.0         Gold   POINT (29.65629 0.98563)\n",
      "3     2013-03-27                          Embouchure      135.0         Gold   POINT (29.64494 0.99976)\n",
      "4     2013-03-27  Apumu-Atandele-Jerusalem-Luka Yayo      270.0         Gold   POINT (29.66000 0.95600)\n",
      "...          ...                                 ...        ...          ...                        ...\n",
      "2138  2017-12-14                                  G4      150.0  Cassiterite  POINT (27.57159 -2.31193)\n",
      "2139  2017-08-28                             Busonga        5.0       Coltan  POINT (29.08323 -1.98792)\n",
      "2140  2017-08-28                      Buterere/Jolie       15.0   Wolframite  POINT (29.08658 -1.99214)\n",
      "2141  2017-08-30                           Rusengasi       80.0  Cassiterite  POINT (29.05597 -2.24943)\n",
      "2142  2017-08-31                            Kambasha       37.0  Cassiterite  POINT (29.05973 -2.25938)\n",
      "\n",
      "[2143 rows x 5 columns]\n",
      "\n",
      " The Coordinate Reference System (CRS) for the mining dataset is: epsg:4326\n"
     ]
    }
   ],
   "source": [
    "# Read the mining site data\n",
    "mining_sites = gp.read_file('Mines\\\\ipis_cod_mines.geojson')\n",
    "\n",
    "# Print the first rows and the CRS information\n",
    "pd.set_option('display.expand_frame_repr', False)\n",
    "print(f'Mining Dataset: \\n\\n {mining_sites}')\n",
    "print(f'\\n The Coordinate Reference System (CRS) for the mining dataset is: {mining_sites.crs}')\n"
   ]
  },
  {
   "cell_type": "code",
   "execution_count": 140,
   "metadata": {},
   "outputs": [
    {
     "data": {
      "image/png": "[encoded data removed]",
      "text/plain": [
       "<Figure size 936x576 with 1 Axes>"
      ]
     },
     "metadata": {
      "needs_background": "light"
     },
     "output_type": "display_data"
    }
   ],
   "source": [
    "# Make a visualization with custom color and tick marks\n",
    "\n",
    "# Create a larger figure with specified size\n",
    "fig, ax = plt.subplots(figsize=(13, 8))\n",
    "\n",
    "# Plot the data with markers and colors\n",
    "mining_sites.plot(ax=ax, color='purple', marker='+', markersize=5)\n",
    "\n",
    "# Add some margins around the plot\n",
    "ax.margins(0.1)\n",
    "\n",
    "# Add a title to the plot\n",
    "ax.set_title(\"Mining Sites Congo\")\n",
    "\n",
    "# Display the plot\n",
    "plt.show()\n"
   ]
  },
  {
   "attachments": {},
   "cell_type": "markdown",
   "metadata": {},
   "source": [
    "#### 3. Spatial Vector Data: Read and Print National Parks Dataset Information"
   ]
  },
  {
   "cell_type": "code",
   "execution_count": 120,
   "metadata": {},
   "outputs": [
    {
     "name": "stdout",
     "output_type": "stream",
     "text": [
      "Column Names:\n",
      "WDPAID - WDPA_PID - PA_DEF - NAME - ORIG_NAME - DESIG - DESIG_ENG - DESIG_TYPE - IUCN_CAT - INT_CRIT\n",
      "MARINE - REP_M_AREA - GIS_M_AREA - REP_AREA - GIS_AREA - NO_TAKE - NO_TK_AREA - STATUS - STATUS_YR - GOV_TYPE\n",
      "OWN_TYPE - MANG_AUTH - MANG_PLAN - VERIF - METADATAID - SUB_LOC - PARENT_ISO - ISO3 - geometry\n",
      "\n",
      " National Parks Dataset \n",
      "                                 NAME                                         DESIG_ENG     DESIG_TYPE\n",
      "0  Lyondji Bonobo Community Reserve           Classified Forest and Community Reserve       National\n",
      "1         Parc national des Virunga  Ramsar Site, Wetland of International Importance  International\n",
      "2            Luo Scientific Reserve                                Scientific Reserve       National\n",
      "3                           Salonga                          Integrale Nature Reserve       National\n",
      "4        Réserve forestière de Luki                      UNESCO-MAB Biosphere Reserve  International\n",
      "\n",
      " The Coordinate Reference System (CRS) for the national parks dataset is: epsg:4326\n"
     ]
    }
   ],
   "source": [
    "# Read the national parks site data\n",
    "national_parks = gp.read_file('wdpamay2017cod-shapefile-polygons.geojson')\n",
    "# print(national_parks)\n",
    "\n",
    "# Print column names from the dataframe\n",
    "column_names = national_parks.columns\n",
    "num_columns = len(column_names)\n",
    "num_columns_per_row = 10\n",
    "num_rows = -(-num_columns // num_columns_per_row)  # Ceiling division\n",
    "\n",
    "print(\"Column Names:\")\n",
    "for i in range(num_rows):\n",
    "    columns_row = column_names[i * num_columns_per_row : (i + 1) * num_columns_per_row]\n",
    "    print(\" - \".join(columns_row))\n",
    " \n",
    "#subset the dataframe\n",
    "national_parks_subset  = national_parks[['NAME', 'DESIG_ENG', 'DESIG_TYPE']]\n",
    "\n",
    "# Print the first rows and the CRS information\n",
    "print(f'\\n National Parks Dataset \\n  {national_parks_subset.head(5)}')\n",
    "print(f'\\n The Coordinate Reference System (CRS) for the national parks dataset is: {national_parks.crs}')"
   ]
  },
  {
   "cell_type": "code",
   "execution_count": 138,
   "metadata": {},
   "outputs": [
    {
     "data": {
      "image/png": "[encoded data removed]",
      "text/plain": [
       "<Figure size 432x288 with 1 Axes>"
      ]
     },
     "metadata": {
      "needs_background": "light"
     },
     "output_type": "display_data"
    }
   ],
   "source": [
    "# Make a visualization\n",
    "national_parks.plot()\n",
    "\n",
    "# Add a title to the plot\n",
    "plt.title(\"National Parks Congo\")\n",
    "\n",
    "# Display the plot\n",
    "plt.show()"
   ]
  },
  {
   "attachments": {},
   "cell_type": "markdown",
   "metadata": {},
   "source": [
    "#### 4. Apply Spatial Transformations: Integrate Data Sources"
   ]
  },
  {
   "cell_type": "code",
   "execution_count": 146,
   "metadata": {},
   "outputs": [
    {
     "name": "stdout",
     "output_type": "stream",
     "text": [
      "Transformed Mining Site Dataset: \n",
      "\n",
      "       visit_date                                name  n_workers      mineral                   geometry             transformed_geometry\n",
      "0     2013-03-27                           Mayi-Tatu      150.0         Gold   POINT (29.66033 1.01089)  POINT (796089.416 10111855.174)\n",
      "1     2013-03-27                             Mabanga      115.0         Gold   POINT (29.65862 1.00308)  POINT (795899.664 10110990.840)\n",
      "2     2013-03-27                             Molende      130.0         Gold   POINT (29.65629 0.98563)  POINT (795641.707 10109059.787)\n",
      "3     2013-03-27                          Embouchure      135.0         Gold   POINT (29.64494 0.99976)  POINT (794376.309 10110622.250)\n",
      "4     2013-03-27  Apumu-Atandele-Jerusalem-Luka Yayo      270.0         Gold   POINT (29.66000 0.95600)  POINT (796057.504 10105781.548)\n",
      "...          ...                                 ...        ...          ...                        ...                              ...\n",
      "2138  2017-12-14                                  G4      150.0  Cassiterite  POINT (27.57159 -2.31193)   POINT (563553.658 9744447.722)\n",
      "2139  2017-08-28                             Busonga        5.0       Coltan  POINT (29.08323 -1.98792)   POINT (731723.859 9780128.598)\n",
      "2140  2017-08-28                      Buterere/Jolie       15.0   Wolframite  POINT (29.08658 -1.99214)   POINT (732096.620 9779660.636)\n",
      "2141  2017-08-30                           Rusengasi       80.0  Cassiterite  POINT (29.05597 -2.24943)   POINT (728652.127 9751207.676)\n",
      "2142  2017-08-31                            Kambasha       37.0  Cassiterite  POINT (29.05973 -2.25938)   POINT (729069.101 9750106.765)\n",
      "\n",
      "[2143 rows x 6 columns]\n",
      "\n",
      "\n",
      "Transformed National Parks Dataset: \n",
      "\n",
      "                                           DESIG_ENG                                           geometry                                 transformed_geomet\n",
      "0           Classified Forest and Community Reserve  MULTIPOLYGON (((22.78361 0.18587, 22.78492 0.1...  POLYGON ((30396.594 10020600.079, 30542.598 10...\n",
      "1  Ramsar Site, Wetland of International Importance  MULTIPOLYGON (((29.11713 -1.64822, 29.11765 -1...  POLYGON ((735540.644 9817696.449, 735598.495 9...\n",
      "2                                Scientific Reserve  MULTIPOLYGON (((22.56673 0.24907, 22.57264 0.2...  POLYGON ((6196.581 10027613.404, 6856.291 1002...\n",
      "3                          Integrale Nature Reserve  MULTIPOLYGON (((20.47664 -1.53041, 20.47703 -1...  POLYGON ((-227210.952 9829733.977, -227166.710...\n",
      "4                      UNESCO-MAB Biosphere Reserve  MULTIPOLYGON (((13.24173 -5.50931, 13.23929 -5...  POLYGON ((-1038605.456 9373038.040, -1038763.5...\n"
     ]
    }
   ],
   "source": [
    "# Define the source and target coordinate systems\n",
    "source_crs = Proj(\"EPSG:4326\")\n",
    "target_crs = Proj(\"EPSG:32735\")\n",
    "\n",
    "# Create a coordinate transformer\n",
    "transformer = Transformer.from_proj(source_crs, target_crs, always_xy=True)\n",
    "\n",
    "# Process the points dataset \n",
    "# Retrieve the point data from the DataFrame\n",
    "points = mining_sites['geometry']\n",
    "\n",
    "# Perform coordinate transformation for each point\n",
    "transformed_points = []\n",
    "for point in points:\n",
    "    transformed_point = transformer.transform(point.x, point.y)\n",
    "    transformed_geometry = Point(transformed_point[0], transformed_point[1])\n",
    "    transformed_points.append(transformed_geometry)\n",
    "\n",
    "# Add the transformed geometry to the DataFrame\n",
    "mining_sites['transformed_geometry'] = transformed_points\n",
    "\n",
    "# Create a GeoDataFrame with the transformed geometry\n",
    "mining_sites_utm = gp.GeoDataFrame(mining_sites, geometry='transformed_geometry')\n",
    "\n",
    "# mining_sites.drop(columns=['geometry'], inplace=True)\n",
    "# Assign the CRS to the DataFrame\n",
    "mining_sites_utm.crs = \"EPSG:32735\"  # Replace with the appropriate CRS for the transformed_geometry column\n",
    "\n",
    "print(f'Transformed Mining Site Dataset: \\n\\n {mining_sites_utm}')\n",
    "\n",
    "# Process the vector dataset\n",
    "polygons = national_parks['geometry']\n",
    "\n",
    "# Create an empty list to store the transformed polygons\n",
    "transformed_polygonsList = []\n",
    "\n",
    "# Create an empty list to store the object types\n",
    "object_types = []\n",
    "\n",
    "\n",
    "# Iterate over each row in the DataFrame\n",
    "for index, row in national_parks.iterrows():\n",
    "    # print(f'The index is {index}')\n",
    "    # Get the geometry string from the 'geometry' column\n",
    "    geometry = row['geometry']\n",
    "\n",
    "    # Determine the object type and append it to the list\n",
    "    # print(type(geometry))\n",
    "    if isinstance(geometry, Polygon):\n",
    "        object_types.append('Polygon')\n",
    "    elif isinstance(geometry, MultiPolygon):\n",
    "        object_types.append('MultiPolygon')\n",
    "    else:\n",
    "        raise ValueError(\"Invalid geometry type\")\n",
    "    \n",
    "    # print(object_types)\n",
    "\n",
    "    x_coordinates = []\n",
    "    y_coordinates = []\n",
    "    \n",
    "    # Get the geometry object from the 'geometry' column and convert it to a string\n",
    "    geometry_string = str(row['geometry'])\n",
    "\n",
    "    coordinates_string = geometry_string.split(\"((\")[1].split(\"))\")[0].strip(\"()\")\n",
    "\n",
    "    #Handle exceptions\n",
    "    if(index == 39):\n",
    "        # print(\"Exception 39\")\n",
    "        # Split the geometry string into individual polygons\n",
    "        polygon_strings = coordinates_string.split(\"), (\")\n",
    "        # Remove the trailing ')' from the last element\n",
    "        last_polygon = polygon_strings[-1].rstrip(\")\")\n",
    "\n",
    "        # Update the last element in the list\n",
    "        polygon_strings[-1] = last_polygon\n",
    "        # print(polygon_strings)\n",
    "\n",
    "        # Iterate over each polygon string\n",
    "        for polygon_string in polygon_strings:\n",
    "            # Remove the opening and closing brackets\n",
    "            polygon_string = polygon_string.strip(\"()\")\n",
    "            polygon_string = polygon_string.strip(\"(\")\n",
    "\n",
    "            # Split the polygon string into individual coordinates\n",
    "            coordinates = [coord.split() for coord in polygon_string.split(\",\")]\n",
    "\n",
    "            # Extract the x and y coordinates and convert them to floats\n",
    "            for coord in coordinates:\n",
    "                # print (coord)\n",
    "                x, y = map(float, coord)\n",
    "                transformed_point = transformer.transform(x, y)\n",
    "                transformed_points.append(transformed_geometry)\n",
    "                x_coordinates.append(x)\n",
    "                y_coordinates.append(y)\n",
    "\n",
    "                # Append the coordinates to the lists\n",
    "                x_coordinates.append(transformed_point[0])\n",
    "                y_coordinates.append(transformed_point[1])      \n",
    "\n",
    "        # Create a Shapely Polygon object from the transformed coordinates\n",
    "        transformed_coordinates = zip(x_coordinates, y_coordinates)\n",
    "        transformed_polygons = Polygon(transformed_coordinates)\n",
    "        # Append the transformed polygon to the list\n",
    "        transformed_polygonsList.append(transformed_polygons)\n",
    "        continue\n",
    "\n",
    "    coordinates = [coord.split() for coord in coordinates_string.split(\",\")]\n",
    "    # print(type(coordinates), coordinates)\n",
    "\n",
    "    # Extract the x and y coordinates and convert them to floats\n",
    "    for coord in coordinates:\n",
    "        x, y = map(float, coord)\n",
    "        transformed_point = transformer.transform(x, y)\n",
    "        # transformed_geometry = Point(transformed_point[0], transformed_point[1])\n",
    "        transformed_points.append(transformed_geometry)\n",
    "\n",
    "        x_coordinates.append(transformed_point[0])\n",
    "        y_coordinates.append(transformed_point[1])\n",
    "    \n",
    "    # Create a Shapely Polygon object from the transformed coordinates\n",
    "    transformed_coordinates = zip(x_coordinates, y_coordinates)\n",
    "    transformed_polygons = Polygon(transformed_coordinates)\n",
    "    \n",
    "    # Append the transformed polygon to the list\n",
    "    transformed_polygonsList.append(transformed_polygons)\n",
    "\n",
    "# national_parks_utm = gp.GeoDataFrame(national_parks.drop(columns=['geometry']), geometry=transformed_polygons)\n",
    "national_parks['transformed_geomet'] = transformed_polygonsList\n",
    "# print(national_parks)\n",
    "\n",
    "national_parks_utm = gp.GeoDataFrame(national_parks, geometry='transformed_geomet')\n",
    "\n",
    "# Assign the CRS to the DataFrame\n",
    "national_parks_utm.crs = \"EPSG:32735\"  # Replace with the appropriate CRS for the transformed_geometry column\n",
    "\n",
    "#subset the dataframe\n",
    "national_parks_utm_subset  = national_parks[['DESIG_ENG', 'geometry', 'transformed_geomet']]\n",
    "\n",
    "\n",
    "\n",
    "print(f'\\n\\nTransformed National Parks Dataset: \\n\\n {national_parks_utm_subset.head()}')\n",
    "\n"
   ]
  },
  {
   "cell_type": "code",
   "execution_count": 137,
   "metadata": {},
   "outputs": [
    {
     "data": {
      "image/png": "[encoded data removed]",
      "text/plain": [
       "<Figure size 864x576 with 1 Axes>"
      ]
     },
     "metadata": {
      "needs_background": "light"
     },
     "output_type": "display_data"
    }
   ],
   "source": [
    "#Visualize the transformations \n",
    "\n",
    "# Define the desired x-axis and y-axis ranges\n",
    "ymin = 8500000  # Replace with the minimum y-coordinate value\n",
    "ymax = 11000000  # Replace with the maximum y-coordinate value\n",
    "\n",
    "# Create a larger figure with specified size\n",
    "fig, ax = plt.subplots(figsize=(12, 8))\n",
    "\n",
    "# Plot mining sites with markers and custom color\n",
    "mining_sites_utm.plot(ax=ax, color='purple', marker='+', markersize=5)\n",
    "\n",
    "# Plot national parks\n",
    "national_parks_utm.plot(ax=ax)\n",
    "\n",
    "# Set the x-axis and y-axis limits to zoom in on the top-right region\n",
    "# ax.set_xlim([xmin, xmax])  # Specify the desired x-axis limits\n",
    "ax.set_ylim([ymin, ymax])  # Specify the desired y-axis limits\n",
    "\n",
    "# Add some margins around the plot\n",
    "ax.margins(0.1)\n",
    "\n",
    "# Add a title to the plot\n",
    "ax.set_title(\"UTM CRS Transformation\")\n",
    "\n",
    "# Display the plot\n",
    "plt.show()\n"
   ]
  },
  {
   "cell_type": "code",
   "execution_count": null,
   "metadata": {},
   "outputs": [],
   "source": []
  },
  {
   "cell_type": "code",
   "execution_count": null,
   "metadata": {},
   "outputs": [],
   "source": []
  }
 ],
 "metadata": {
  "kernelspec": {
   "display_name": "base",
   "language": "python",
   "name": "python3"
  },
  "language_info": {
   "codemirror_mode": {
    "name": "ipython",
    "version": 3
   },
   "file_extension": ".py",
   "mimetype": "text/x-python",
   "name": "python",
   "nbconvert_exporter": "python",
   "pygments_lexer": "ipython3",
   "version": "3.9.7"
  },
  "orig_nbformat": 4
 },
 "nbformat": 4,
 "nbformat_minor": 2
}
