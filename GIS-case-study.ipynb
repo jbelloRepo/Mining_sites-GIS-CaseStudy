{
 "cells": [
  {
   "cell_type": "code",
   "execution_count": 1,
   "metadata": {},
   "outputs": [],
   "source": [
    "# Import GeoPandas and Matplotlib libraries \n",
    "import pandas as pd\n",
    "import matplotlib.pyplot as plt\n",
    "import geopandas as gp"
   ]
  },
  {
   "cell_type": "code",
   "execution_count": 7,
   "metadata": {},
   "outputs": [
    {
     "name": "stdout",
     "output_type": "stream",
     "text": [
      "   visit_date                                name  n_workers mineral  \\\n",
      "0  2013-03-27                           Mayi-Tatu      150.0    Gold   \n",
      "1  2013-03-27                             Mabanga      115.0    Gold   \n",
      "2  2013-03-27                             Molende      130.0    Gold   \n",
      "3  2013-03-27                          Embouchure      135.0    Gold   \n",
      "4  2013-03-27  Apumu-Atandele-Jerusalem-Luka Yayo      270.0    Gold   \n",
      "\n",
      "                   geometry  \n",
      "0  POINT (29.66033 1.01089)  \n",
      "1  POINT (29.65862 1.00308)  \n",
      "2  POINT (29.65629 0.98563)  \n",
      "3  POINT (29.64494 0.99976)  \n",
      "4  POINT (29.66000 0.95600)  \n",
      "epsg:4326\n"
     ]
    }
   ],
   "source": [
    "# Read the mining site data\n",
    "mining_sites = geopandas.read_file('Mines\\\\ipis_cod_mines.geojson')\n",
    "# Print the first rows and the CRS information\n",
    "print(mining_sites.head())\n",
    "print(mining_sites.crs)"
   ]
  },
  {
   "cell_type": "code",
   "execution_count": null,
   "metadata": {},
   "outputs": [],
   "source": []
  }
 ],
 "metadata": {
  "kernelspec": {
   "display_name": "base",
   "language": "python",
   "name": "python3"
  },
  "language_info": {
   "codemirror_mode": {
    "name": "ipython",
    "version": 3
   },
   "file_extension": ".py",
   "mimetype": "text/x-python",
   "name": "python",
   "nbconvert_exporter": "python",
   "pygments_lexer": "ipython3",
   "version": "3.9.7"
  },
  "orig_nbformat": 4
 },
 "nbformat": 4,
 "nbformat_minor": 2
}
