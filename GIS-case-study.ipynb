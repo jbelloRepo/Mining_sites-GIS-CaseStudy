{
 "cells": [
  {
   "attachments": {},
   "cell_type": "markdown",
   "metadata": {},
   "source": [
    "## Geospatial Data Analysis with Python\n",
    "\n",
    "In this exercise, we will work with two new datasets: artisanal mining sites in Eastern Congo and national parks in Congo. We'll follow a step-by-step process to import the necessary packages, read the data using `geopandas.read_file()`, inspect the first 5 rows and the Coordinate Reference System (CRS) of each dataset, and create quick visualizations."
   ]
  },
  {
   "attachments": {},
   "cell_type": "markdown",
   "metadata": {},
   "source": [
    "### Artisanal Mining Case Study\n",
    "\n",
    "#### 1. Import Packages\n"
   ]
  },
  {
   "cell_type": "code",
   "execution_count": 52,
   "metadata": {},
   "outputs": [],
   "source": [
    "# Import GeoPandas and Matplotlib libraries \n",
    "import pandas as pd\n",
    "import matplotlib.pyplot as plt\n",
    "import geopandas as gp"
   ]
  },
  {
   "attachments": {},
   "cell_type": "markdown",
   "metadata": {},
   "source": [
    "#### 2. Read and Print Mining Sites Dataset Information"
   ]
  },
  {
   "cell_type": "code",
   "execution_count": 66,
   "metadata": {},
   "outputs": [
    {
     "name": "stdout",
     "output_type": "stream",
     "text": [
      "Mining Dataset: \n",
      "\n",
      "    visit_date                                name  n_workers mineral                  geometry\n",
      "0  2013-03-27                           Mayi-Tatu      150.0    Gold  POINT (29.66033 1.01089)\n",
      "1  2013-03-27                             Mabanga      115.0    Gold  POINT (29.65862 1.00308)\n",
      "2  2013-03-27                             Molende      130.0    Gold  POINT (29.65629 0.98563)\n",
      "3  2013-03-27                          Embouchure      135.0    Gold  POINT (29.64494 0.99976)\n",
      "4  2013-03-27  Apumu-Atandele-Jerusalem-Luka Yayo      270.0    Gold  POINT (29.66000 0.95600)\n",
      "\n",
      " The Coordinate Reference System (CRS) for the mining dataset is: epsg:4326\n"
     ]
    }
   ],
   "source": [
    "# Read the mining site data\n",
    "mining_sites = geopandas.read_file('Mines\\\\ipis_cod_mines.geojson')\n",
    "\n",
    "# Print the first rows and the CRS information\n",
    "pd.set_option('display.expand_frame_repr', False)\n",
    "print(f'Mining Dataset: \\n\\n {mining_sites.head()}')\n",
    "print(f'\\n The Coordinate Reference System (CRS) for the mining dataset is: {mining_sites.crs}')\n"
   ]
  },
  {
   "cell_type": "code",
   "execution_count": 54,
   "metadata": {},
   "outputs": [
    {
     "data": {
      "image/png": "[encoded data removed]",
      "text/plain": [
       "<Figure size 432x288 with 1 Axes>"
      ]
     },
     "metadata": {
      "needs_background": "light"
     },
     "output_type": "display_data"
    }
   ],
   "source": [
    "# Make a visualization with custom color and tick marks\n",
    "mining_sites.plot(color='purple', marker='+', markersize=5)\n",
    "plt.show()"
   ]
  },
  {
   "cell_type": "code",
   "execution_count": 71,
   "metadata": {},
   "outputs": [
    {
     "name": "stdout",
     "output_type": "stream",
     "text": [
      "Column Names:\n",
      "WDPAID - WDPA_PID - PA_DEF - NAME - ORIG_NAME - DESIG - DESIG_ENG - DESIG_TYPE - IUCN_CAT - INT_CRIT\n",
      "MARINE - REP_M_AREA - GIS_M_AREA - REP_AREA - GIS_AREA - NO_TAKE - NO_TK_AREA - STATUS - STATUS_YR - GOV_TYPE\n",
      "OWN_TYPE - MANG_AUTH - MANG_PLAN - VERIF - METADATAID - SUB_LOC - PARENT_ISO - ISO3 - geometry\n",
      "\n",
      " National Parks Dataset \n",
      "                                        NAME                                         DESIG_ENG     DESIG_TYPE\n",
      "0         Lyondji Bonobo Community Reserve           Classified Forest and Community Reserve       National\n",
      "1                Parc national des Virunga  Ramsar Site, Wetland of International Importance  International\n",
      "2                   Luo Scientific Reserve                                Scientific Reserve       National\n",
      "3                                  Salonga                          Integrale Nature Reserve       National\n",
      "4               Réserve forestière de Luki                      UNESCO-MAB Biosphere Reserve  International\n",
      "5   Mangrove Nature Reserve or Marine Park                                    Nature Reserve       National\n",
      "6                 Parc Marin des Mangroves                                     National Park       National\n",
      "7                                   Mangai                                    Nature Reserve       National\n",
      "8                    Tshangalele - Kolwezi                                    Nature Reserve       National\n",
      "9                             Kahuzi-Biega                                     National Park       National\n",
      "10                                 Garamba                                     National Park       National\n",
      "11                                  Upemba                                     National Park       National\n",
      "12                                   Maiko                                     National Park       National\n",
      "13                              Kundelungu                                     National Park       National\n",
      "14                              Swa-Kibula                                      Hunting Area       National\n",
      "15                               Bushimaie                                      Hunting Area       National\n",
      "16                            Bombo Lumene                                      Not Reported       National\n",
      "17                               Bili-Uere                                      Not Reported       National\n",
      "18                               Rubi-Tele                                      Hunting Area       National\n",
      "19                                   Okapi                                  Wildlife Reserve       National\n",
      "\n",
      " The Coordinate Reference System (CRS) for the national parks dataset is: epsg:4326\n"
     ]
    }
   ],
   "source": [
    "# Read the national parks site data\n",
    "national_parks = geopandas.read_file('wdpamay2017cod-shapefile-polygons.geojson')\n",
    "\n",
    "# Print column names from the dataframe\n",
    "column_names = national_parks.columns\n",
    "num_columns = len(column_names)\n",
    "num_columns_per_row = 10\n",
    "num_rows = -(-num_columns // num_columns_per_row)  # Ceiling division\n",
    "\n",
    "print(\"Column Names:\")\n",
    "for i in range(num_rows):\n",
    "    columns_row = column_names[i * num_columns_per_row : (i + 1) * num_columns_per_row]\n",
    "    print(\" - \".join(columns_row))\n",
    " \n",
    "#subset the dataframe-\n",
    "national_parks_subset  = national_parks[['NAME', 'DESIG_ENG', 'DESIG_TYPE']]\n",
    "\n",
    "# Print the first rows and the CRS information\n",
    "print(f'\\n National Parks Dataset \\n  {national_parks_subset.head(20)}')\n",
    "print(f'\\n The Coordinate Reference System (CRS) for the national parks dataset is: {national_parks.crs}')"
   ]
  },
  {
   "cell_type": "code",
   "execution_count": null,
   "metadata": {},
   "outputs": [],
   "source": [
    "democratic_republic_of_the_congo_natural.zip\n",
    "        democratic_republic_of_the_congo_natural/\n",
    "        wdpamay2017cod-shapefile-polygons.geojson"
   ]
  }
 ],
 "metadata": {
  "kernelspec": {
   "display_name": "base",
   "language": "python",
   "name": "python3"
  },
  "language_info": {
   "codemirror_mode": {
    "name": "ipython",
    "version": 3
   },
   "file_extension": ".py",
   "mimetype": "text/x-python",
   "name": "python",
   "nbconvert_exporter": "python",
   "pygments_lexer": "ipython3",
   "version": "3.9.7"
  },
  "orig_nbformat": 4
 },
 "nbformat": 4,
 "nbformat_minor": 2
}
